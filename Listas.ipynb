{
  "nbformat": 4,
  "nbformat_minor": 0,
  "metadata": {
    "colab": {
      "provenance": [],
      "authorship_tag": "ABX9TyOCan9FTkzs9GcB1UzE5MkK",
      "include_colab_link": true
    },
    "kernelspec": {
      "name": "python3",
      "display_name": "Python 3"
    },
    "language_info": {
      "name": "python"
    }
  },
  "cells": [
    {
      "cell_type": "markdown",
      "metadata": {
        "id": "view-in-github",
        "colab_type": "text"
      },
      "source": [
        "<a href=\"https://colab.research.google.com/github/andryasilvestre/Data-Science-Senac/blob/master/Listas.ipynb\" target=\"_parent\"><img src=\"https://colab.research.google.com/assets/colab-badge.svg\" alt=\"Open In Colab\"/></a>"
      ]
    },
    {
      "cell_type": "markdown",
      "source": [
        "Criar lista com 3 elementos"
      ],
      "metadata": {
        "id": "1V79usYjwuZM"
      }
    },
    {
      "cell_type": "code",
      "source": [
        "L = []\n",
        "L = list()\n",
        "\n",
        "dias = [3, 1, 10]\n",
        "dias[0]"
      ],
      "metadata": {
        "colab": {
          "base_uri": "https://localhost:8080/"
        },
        "id": "TZmujgzPwCb2",
        "outputId": "54971860-c754-4672-f7d5-1318b193aa87"
      },
      "execution_count": null,
      "outputs": [
        {
          "output_type": "execute_result",
          "data": {
            "text/plain": [
              "3"
            ]
          },
          "metadata": {},
          "execution_count": 5
        }
      ]
    },
    {
      "cell_type": "markdown",
      "source": [
        "Acesso aos demais itens"
      ],
      "metadata": {
        "id": "NCtJjx2RwwdT"
      }
    },
    {
      "cell_type": "code",
      "source": [
        "dias[1]\n"
      ],
      "metadata": {
        "colab": {
          "base_uri": "https://localhost:8080/"
        },
        "id": "iy7TU6JZwxsk",
        "outputId": "66310962-de6f-49f4-a3e9-b96ae0f9db6f"
      },
      "execution_count": null,
      "outputs": [
        {
          "output_type": "execute_result",
          "data": {
            "text/plain": [
              "1"
            ]
          },
          "metadata": {},
          "execution_count": 8
        }
      ]
    },
    {
      "cell_type": "code",
      "source": [
        "dias[2]\n"
      ],
      "metadata": {
        "colab": {
          "base_uri": "https://localhost:8080/"
        },
        "id": "wy83TJk3xNZO",
        "outputId": "b58d74e5-285f-4c81-bd5d-70039fcac93c"
      },
      "execution_count": null,
      "outputs": [
        {
          "output_type": "execute_result",
          "data": {
            "text/plain": [
              "10"
            ]
          },
          "metadata": {},
          "execution_count": 7
        }
      ]
    },
    {
      "cell_type": "markdown",
      "source": [
        "Modificando listas"
      ],
      "metadata": {
        "id": "Sdw-Nsr3xYl8"
      }
    },
    {
      "cell_type": "code",
      "source": [
        "Z= [3, 8, 9]\n",
        "Z[0] = 7\n",
        "Z"
      ],
      "metadata": {
        "colab": {
          "base_uri": "https://localhost:8080/"
        },
        "id": "l0iDYphUxbam",
        "outputId": "402c8ae3-d29a-4ce4-a03f-a5de2507f15f"
      },
      "execution_count": null,
      "outputs": [
        {
          "output_type": "execute_result",
          "data": {
            "text/plain": [
              "[7, 8, 9]"
            ]
          },
          "metadata": {},
          "execution_count": 10
        }
      ]
    },
    {
      "cell_type": "markdown",
      "source": [
        "Observe"
      ],
      "metadata": {
        "id": "mfmOTxwnyMps"
      }
    },
    {
      "cell_type": "code",
      "source": [
        "V = [67589, 2]\n",
        "L = V\n",
        "L[0] = 1\n",
        "L"
      ],
      "metadata": {
        "colab": {
          "base_uri": "https://localhost:8080/"
        },
        "id": "tZwkXazDyFQU",
        "outputId": "7986f9ff-b5f4-4501-e74b-9c70fe0746fa"
      },
      "execution_count": null,
      "outputs": [
        {
          "output_type": "execute_result",
          "data": {
            "text/plain": [
              "[1, 2]"
            ]
          },
          "metadata": {},
          "execution_count": 18
        }
      ]
    },
    {
      "cell_type": "code",
      "source": [
        "V"
      ],
      "metadata": {
        "colab": {
          "base_uri": "https://localhost:8080/"
        },
        "id": "MLdZPrHCyO3h",
        "outputId": "4f242e49-5962-4209-b71d-ade801398b0f"
      },
      "execution_count": null,
      "outputs": [
        {
          "output_type": "execute_result",
          "data": {
            "text/plain": [
              "[1, 2]"
            ]
          },
          "metadata": {},
          "execution_count": 19
        }
      ]
    },
    {
      "cell_type": "markdown",
      "source": [
        "Clonando listas"
      ],
      "metadata": {
        "id": "4ucLiiclylM3"
      }
    },
    {
      "cell_type": "code",
      "source": [
        "a = [81, 82, 83]\n",
        "b = a[:]\n",
        "print(a==b)\n",
        "print (a is b)"
      ],
      "metadata": {
        "colab": {
          "base_uri": "https://localhost:8080/"
        },
        "id": "0ULD7ldLymTC",
        "outputId": "1de2db8d-a922-4963-9d71-2b9702c1809a"
      },
      "execution_count": null,
      "outputs": [
        {
          "output_type": "stream",
          "name": "stdout",
          "text": [
            "True\n",
            "False\n"
          ]
        }
      ]
    },
    {
      "cell_type": "code",
      "source": [
        "b[0] = 5\n",
        "print(a)\n",
        "print(b)"
      ],
      "metadata": {
        "colab": {
          "base_uri": "https://localhost:8080/"
        },
        "id": "cgjO5eezyuqX",
        "outputId": "b96ad021-65b6-4336-b1c7-00e2b00b7e6b"
      },
      "execution_count": null,
      "outputs": [
        {
          "output_type": "stream",
          "name": "stdout",
          "text": [
            "[81, 82, 83]\n",
            "[5, 82, 83]\n"
          ]
        }
      ]
    },
    {
      "cell_type": "markdown",
      "source": [
        "Fatiamento de Listas"
      ],
      "metadata": {
        "id": "XrdCX8JLzOia"
      }
    },
    {
      "cell_type": "code",
      "source": [
        "uma_lista = ['a', 'b', 'c', 'd', 'e', 'f']\n"
      ],
      "metadata": {
        "id": "8Fn-bXbG0QEl"
      },
      "execution_count": null,
      "outputs": []
    },
    {
      "cell_type": "code",
      "source": [
        "print(uma_lista[1:3])\n",
        "print(uma_lista[:4])\n",
        "print(uma_lista[3:])\n",
        "print(uma_lista[:])"
      ],
      "metadata": {
        "colab": {
          "base_uri": "https://localhost:8080/"
        },
        "id": "3qe0eXSr0d8N",
        "outputId": "5f87034f-9bfb-4021-c434-8fd4bed5951b"
      },
      "execution_count": null,
      "outputs": [
        {
          "output_type": "stream",
          "name": "stdout",
          "text": [
            "['b', 'c']\n",
            "['a', 'b', 'c', 'd']\n",
            "['d', 'e', 'f']\n",
            "['a', 'b', 'c', 'd', 'e', 'f']\n"
          ]
        }
      ]
    },
    {
      "cell_type": "markdown",
      "source": [
        "Praticando listas"
      ],
      "metadata": {
        "id": "nphbS2T61lsw"
      }
    },
    {
      "cell_type": "code",
      "source": [
        " a = [1, 2, 3]\n",
        " b=a[:]\n",
        " b[0] = 5\n",
        " print(a)"
      ],
      "metadata": {
        "colab": {
          "base_uri": "https://localhost:8080/"
        },
        "id": "zWYG8HgI1nmo",
        "outputId": "a610e9b4-b40a-4235-fed2-9bde095679e0"
      },
      "execution_count": null,
      "outputs": [
        {
          "output_type": "stream",
          "name": "stdout",
          "text": [
            "[1, 2, 3]\n"
          ]
        }
      ]
    },
    {
      "cell_type": "code",
      "source": [
        "minhaLista = [76, 92.3, 'oi', True, 4, 76]\n",
        "minhaLista += [76, 'pitomba']\n",
        "minhaLista"
      ],
      "metadata": {
        "colab": {
          "base_uri": "https://localhost:8080/"
        },
        "id": "YMy3i9iY1zP_",
        "outputId": "6442931c-c7b0-47b6-b0ba-e99c03943e56"
      },
      "execution_count": 64,
      "outputs": [
        {
          "output_type": "execute_result",
          "data": {
            "text/plain": [
              "[76, 92.3, 'oi', True, 4, 76, 76, 'pitomba']"
            ]
          },
          "metadata": {},
          "execution_count": 64
        }
      ]
    },
    {
      "cell_type": "code",
      "source": [
        "minhaLista[3] = 'Cibele'\n",
        "minhaLista"
      ],
      "metadata": {
        "colab": {
          "base_uri": "https://localhost:8080/"
        },
        "id": "jUyNSeYh2I2b",
        "outputId": "56b983ea-9569-40f7-c90c-d26cd0a15460"
      },
      "execution_count": 65,
      "outputs": [
        {
          "output_type": "execute_result",
          "data": {
            "text/plain": [
              "[76, 92.3, 'oi', 'Cibele', 4, 76, 76, 'pitomba']"
            ]
          },
          "metadata": {},
          "execution_count": 65
        }
      ]
    },
    {
      "cell_type": "code",
      "source": [
        "minhaLista[0] = 99\n",
        "minhaLista"
      ],
      "metadata": {
        "colab": {
          "base_uri": "https://localhost:8080/"
        },
        "id": "lAziVxKT3hJR",
        "outputId": "998e3e9e-ecb5-493c-fb62-c9e5cfda5dad"
      },
      "execution_count": 66,
      "outputs": [
        {
          "output_type": "execute_result",
          "data": {
            "text/plain": [
              "[99, 92.3, 'oi', 'Cibele', 4, 76, 76, 'pitomba']"
            ]
          },
          "metadata": {},
          "execution_count": 66
        }
      ]
    },
    {
      "cell_type": "markdown",
      "source": [
        "Tuplas"
      ],
      "metadata": {
        "id": "PwiPZVF76Dgg"
      }
    },
    {
      "cell_type": "code",
      "source": [
        "tupla_numeros = (1, 2, 3)\n",
        "tupla_numeros"
      ],
      "metadata": {
        "colab": {
          "base_uri": "https://localhost:8080/"
        },
        "id": "lBx8bOKb6EV6",
        "outputId": "3c4eb286-3678-4ff9-96e8-6223bf042c2d"
      },
      "execution_count": 68,
      "outputs": [
        {
          "output_type": "execute_result",
          "data": {
            "text/plain": [
              "(1, 2, 3)"
            ]
          },
          "metadata": {},
          "execution_count": 68
        }
      ]
    },
    {
      "cell_type": "code",
      "source": [
        "tupla_elemento = 10,\n",
        "tupla_elemento"
      ],
      "metadata": {
        "colab": {
          "base_uri": "https://localhost:8080/"
        },
        "id": "ryvSnfyt6gWf",
        "outputId": "ae0b8ffe-9435-4a7f-fd5a-f023862ca1b1"
      },
      "execution_count": 69,
      "outputs": [
        {
          "output_type": "execute_result",
          "data": {
            "text/plain": [
              "(10,)"
            ]
          },
          "metadata": {},
          "execution_count": 69
        }
      ]
    },
    {
      "cell_type": "code",
      "source": [
        "len(tupla_elemento)"
      ],
      "metadata": {
        "colab": {
          "base_uri": "https://localhost:8080/"
        },
        "id": "_uP0aOin6kg2",
        "outputId": "0b18d9a7-82a4-403f-d2db-eba6943c5e4a"
      },
      "execution_count": 75,
      "outputs": [
        {
          "output_type": "execute_result",
          "data": {
            "text/plain": [
              "1"
            ]
          },
          "metadata": {},
          "execution_count": 75
        }
      ]
    },
    {
      "cell_type": "code",
      "source": [
        "tupla_vazia = ()\n",
        "tupla_vazia"
      ],
      "metadata": {
        "colab": {
          "base_uri": "https://localhost:8080/"
        },
        "id": "NS_TVFmR63i9",
        "outputId": "72dffeba-8cd3-40ac-c178-041cdbda42db"
      },
      "execution_count": 76,
      "outputs": [
        {
          "output_type": "execute_result",
          "data": {
            "text/plain": [
              "()"
            ]
          },
          "metadata": {},
          "execution_count": 76
        }
      ]
    },
    {
      "cell_type": "code",
      "source": [
        "nova_tupla = tuple('Teste')\n",
        "nova_tupla"
      ],
      "metadata": {
        "colab": {
          "base_uri": "https://localhost:8080/"
        },
        "id": "WOUBOUeG7Ixp",
        "outputId": "1e4890c5-a927-437d-e801-a17f32896b01"
      },
      "execution_count": 77,
      "outputs": [
        {
          "output_type": "execute_result",
          "data": {
            "text/plain": [
              "('T', 'e', 's', 't', 'e')"
            ]
          },
          "metadata": {},
          "execution_count": 77
        }
      ]
    },
    {
      "cell_type": "markdown",
      "source": [
        "Contando elementos da tupla"
      ],
      "metadata": {
        "id": "3FX0tWx98eQM"
      }
    },
    {
      "cell_type": "code",
      "source": [
        "tupla_nomes = ['Maggie', 'Petunia', 'Fred', 'Cachorros']\n",
        "tupla_nomes.count('Maggie')"
      ],
      "metadata": {
        "colab": {
          "base_uri": "https://localhost:8080/"
        },
        "id": "beVv4NGy8gmY",
        "outputId": "ee4f033d-fcf9-4bfe-af1f-66d40c1819e1"
      },
      "execution_count": 80,
      "outputs": [
        {
          "output_type": "execute_result",
          "data": {
            "text/plain": [
              "1"
            ]
          },
          "metadata": {},
          "execution_count": 80
        }
      ]
    },
    {
      "cell_type": "code",
      "source": [
        "print(tupla_nomes.count('Maggie'))\n",
        "print(tupla_nomes.count('Fred'))"
      ],
      "metadata": {
        "colab": {
          "base_uri": "https://localhost:8080/"
        },
        "id": "CXKU7P7Q8psO",
        "outputId": "0701d543-edaf-4925-903e-8f0c38d21790"
      },
      "execution_count": 82,
      "outputs": [
        {
          "output_type": "stream",
          "name": "stdout",
          "text": [
            "1\n",
            "1\n"
          ]
        }
      ]
    }
  ]
}