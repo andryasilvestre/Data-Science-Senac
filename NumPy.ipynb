{
  "cells": [
    {
      "cell_type": "markdown",
      "metadata": {
        "id": "view-in-github",
        "colab_type": "text"
      },
      "source": [
        "<a href=\"https://colab.research.google.com/github/andryasilvestre/Data-Science-Senac/blob/master/NumPy.ipynb\" target=\"_parent\"><img src=\"https://colab.research.google.com/assets/colab-badge.svg\" alt=\"Open In Colab\"/></a>"
      ]
    },
    {
      "cell_type": "markdown",
      "metadata": {
        "id": "ldqouD-Okose"
      },
      "source": [
        "1ª AULA DATA SCIENCE (02.03.2023)\n",
        "\n"
      ]
    },
    {
      "cell_type": "markdown",
      "metadata": {
        "id": "1SXch3ksmpR1"
      },
      "source": [
        "Importanto e apelidando a NumPy"
      ]
    },
    {
      "cell_type": "code",
      "execution_count": null,
      "metadata": {
        "id": "iHj7QjUpkktt"
      },
      "outputs": [],
      "source": [
        "import numpy as np"
      ]
    },
    {
      "cell_type": "markdown",
      "metadata": {
        "id": "4QYivB9onROO"
      },
      "source": [
        "Meios de criar uma lista"
      ]
    },
    {
      "cell_type": "code",
      "execution_count": null,
      "metadata": {
        "id": "k6DEtXZTnEWe"
      },
      "outputs": [],
      "source": [
        "minhaLista = [0,1,2,3,4,5,6,7,8]\n"
      ]
    },
    {
      "cell_type": "code",
      "execution_count": null,
      "metadata": {
        "id": "4Z9sJEomom2W"
      },
      "outputs": [],
      "source": [
        "minhaLista2 = list(range(9))"
      ]
    },
    {
      "cell_type": "markdown",
      "metadata": {
        "id": "3ob-I4linSUf"
      },
      "source": [
        "Meios de transformar a lista em um Array Numpy"
      ]
    },
    {
      "cell_type": "code",
      "execution_count": null,
      "metadata": {
        "colab": {
          "base_uri": "https://localhost:8080/"
        },
        "id": "u3R_ULYmnKWO",
        "outputId": "3e86fcca-265b-487d-8ff5-3399cf97775f"
      },
      "outputs": [
        {
          "data": {
            "text/plain": [
              "array([0, 1, 2, 3, 4, 5, 6, 7, 8])"
            ]
          },
          "execution_count": 18,
          "metadata": {},
          "output_type": "execute_result"
        }
      ],
      "source": [
        "meuArray = np.array(minhaLista)\n",
        "meuArray"
      ]
    },
    {
      "cell_type": "code",
      "execution_count": null,
      "metadata": {
        "colab": {
          "base_uri": "https://localhost:8080/"
        },
        "id": "Xx276-10ovH1",
        "outputId": "30ec3369-e642-424f-d8ab-df7ce4094ab1"
      },
      "outputs": [
        {
          "data": {
            "text/plain": [
              "array([0, 1, 2, 3, 4, 5, 6, 7, 8])"
            ]
          },
          "execution_count": 19,
          "metadata": {},
          "output_type": "execute_result"
        }
      ],
      "source": [
        "array1 = np.array(range(9))\n",
        "array1"
      ]
    },
    {
      "cell_type": "markdown",
      "metadata": {
        "id": "tzt2Pqaco-lN"
      },
      "source": [
        "Fazendo as etapas anteriores numa única sintaxe"
      ]
    },
    {
      "cell_type": "code",
      "execution_count": null,
      "metadata": {
        "colab": {
          "base_uri": "https://localhost:8080/"
        },
        "id": "phGXEr1epC5d",
        "outputId": "a939d7ca-171c-40a6-f07b-fadccaaca2c4"
      },
      "outputs": [
        {
          "data": {
            "text/plain": [
              "array([0, 1, 2, 3, 4, 5, 6, 7, 8])"
            ]
          },
          "execution_count": 20,
          "metadata": {},
          "output_type": "execute_result"
        }
      ],
      "source": [
        "array2=np.arange(9)\n",
        "array2"
      ]
    },
    {
      "cell_type": "markdown",
      "metadata": {
        "id": "tgNqDLM6oP1N"
      },
      "source": [
        "Imprimindo os arrays"
      ]
    },
    {
      "cell_type": "code",
      "execution_count": null,
      "metadata": {
        "colab": {
          "base_uri": "https://localhost:8080/"
        },
        "id": "pPahoPNToNXN",
        "outputId": "ed21d64d-e745-44f2-eb6f-fa6ed757d966"
      },
      "outputs": [
        {
          "name": "stdout",
          "output_type": "stream",
          "text": [
            "[0 1 2 3 4 5 6 7 8]\n"
          ]
        }
      ],
      "source": [
        "print(meuArray)"
      ]
    },
    {
      "cell_type": "code",
      "execution_count": null,
      "metadata": {
        "colab": {
          "base_uri": "https://localhost:8080/"
        },
        "id": "JxjJWtLIoXmN",
        "outputId": "3484368a-3ad0-4a43-d2be-b09021b67fa6"
      },
      "outputs": [
        {
          "data": {
            "text/plain": [
              "array([0, 1, 2, 3, 4, 5, 6, 7, 8])"
            ]
          },
          "execution_count": 22,
          "metadata": {},
          "output_type": "execute_result"
        }
      ],
      "source": [
        "meuArray"
      ]
    },
    {
      "cell_type": "markdown",
      "metadata": {
        "id": "egFcl05ep5S-"
      },
      "source": [
        "Start, stop, step:"
      ]
    },
    {
      "cell_type": "code",
      "execution_count": null,
      "metadata": {
        "colab": {
          "background_save": true,
          "base_uri": "https://localhost:8080/"
        },
        "id": "rkQas2AWpsOh",
        "outputId": "568a5456-bfd3-426a-d3ed-2f1269c549a4"
      },
      "outputs": [
        {
          "data": {
            "text/plain": [
              "array([0. , 0.5, 1. , 1.5, 2. , 2.5, 3. , 3.5, 4. , 4.5, 5. , 5.5, 6. ,\n",
              "       6.5, 7. , 7.5, 8. , 8.5, 9. , 9.5])"
            ]
          },
          "execution_count": 67,
          "metadata": {},
          "output_type": "execute_result"
        }
      ],
      "source": [
        "\n",
        "array31 = np.arange(0, 10, 0.5)\n",
        "array31"
      ]
    },
    {
      "cell_type": "code",
      "execution_count": null,
      "metadata": {
        "colab": {
          "base_uri": "https://localhost:8080/"
        },
        "id": "NyXooSqlqTVO",
        "outputId": "011f46e1-d4ca-4e78-cbfd-74ef037bc3e3"
      },
      "outputs": [
        {
          "data": {
            "text/plain": [
              "array([], dtype=float64)"
            ]
          },
          "execution_count": 27,
          "metadata": {},
          "output_type": "execute_result"
        }
      ],
      "source": [
        "array81 = np.arange(0, 10, -0.5)\n",
        "array81"
      ]
    },
    {
      "cell_type": "markdown",
      "metadata": {
        "id": "P9WTdilJp_DW"
      },
      "source": [
        "Arredondando os valores obtidos:"
      ]
    },
    {
      "cell_type": "markdown",
      "metadata": {
        "id": "aH6o99qAqBiG"
      },
      "source": [
        "novoArray = np.around(array3)\n",
        "novoArray"
      ]
    },
    {
      "cell_type": "markdown",
      "metadata": {
        "id": "gbERqt1KqG1-"
      },
      "source": [
        "Também podemos \"forçar\" o tipo dos elementos: >>> mas dá errado pois:"
      ]
    },
    {
      "cell_type": "code",
      "execution_count": null,
      "metadata": {
        "colab": {
          "base_uri": "https://localhost:8080/"
        },
        "id": "s8p5AYT0qLrh",
        "outputId": "6d4eb641-b3b9-4728-96b7-a7e68ce0264a"
      },
      "outputs": [
        {
          "data": {
            "text/plain": [
              "array([0, 0, 0, 0, 0, 0, 0, 0, 0, 0, 0, 0, 0, 0, 0, 0, 0, 0, 0, 0])"
            ]
          },
          "execution_count": 24,
          "metadata": {},
          "output_type": "execute_result"
        }
      ],
      "source": [
        "array3 = np.arange(0, 10, 0.5, dtype=int)\n",
        "array3"
      ]
    },
    {
      "cell_type": "markdown",
      "metadata": {
        "id": "y_BNSSQ6rKkl"
      },
      "source": [
        "Arredondando os valores obtidos: "
      ]
    },
    {
      "cell_type": "code",
      "execution_count": null,
      "metadata": {
        "colab": {
          "base_uri": "https://localhost:8080/"
        },
        "id": "xydTOgZ6rUJW",
        "outputId": "0e408128-617d-48aa-da33-8af6b1f78868"
      },
      "outputs": [
        {
          "data": {
            "text/plain": [
              "array([ 0.,  0.,  1.,  2.,  2.,  2.,  3.,  4.,  4.,  4.,  5.,  6.,  6.,\n",
              "        6.,  7.,  8.,  8.,  8.,  9., 10.])"
            ]
          },
          "execution_count": 31,
          "metadata": {},
          "output_type": "execute_result"
        }
      ],
      "source": [
        "novoArray = np.around(array31)\n",
        "novoArray"
      ]
    },
    {
      "cell_type": "code",
      "execution_count": null,
      "metadata": {
        "colab": {
          "base_uri": "https://localhost:8080/"
        },
        "id": "-g-XXICvtrUe",
        "outputId": "d1afcf70-761d-437c-c08c-3058d70b14c0"
      },
      "outputs": [
        {
          "data": {
            "text/plain": [
              "array([0. , 1.5, 3. , 4.5, 6. , 7.5, 9. ])"
            ]
          },
          "execution_count": 32,
          "metadata": {},
          "output_type": "execute_result"
        }
      ],
      "source": [
        "array32 = np.arange(0, 10, 1.5, dtype = float)\n",
        "array32"
      ]
    },
    {
      "cell_type": "markdown",
      "metadata": {
        "id": "idgfYcJ6uKo-"
      },
      "source": [
        "Também podemos pré determinar o tipo dos elementos"
      ]
    },
    {
      "cell_type": "code",
      "execution_count": null,
      "metadata": {
        "id": "7AhgDmhwuKO-"
      },
      "outputs": [],
      "source": [
        "array4 = np.arange(12)"
      ]
    },
    {
      "cell_type": "markdown",
      "metadata": {
        "id": "8xOE66EluQ9W"
      },
      "source": [
        "Acima, temos inteiros, mas pode deixar o array preparado para trabalhar com tipos float:"
      ]
    },
    {
      "cell_type": "code",
      "execution_count": null,
      "metadata": {
        "colab": {
          "base_uri": "https://localhost:8080/"
        },
        "id": "tALIHWSRuVq2",
        "outputId": "6edf9c92-e85d-4d60-d375-2b1eef296503"
      },
      "outputs": [
        {
          "data": {
            "text/plain": [
              "array([ 0.,  1.,  2.,  3.,  4.,  5.,  6.,  7.,  8.,  9., 10., 11.])"
            ]
          },
          "execution_count": 34,
          "metadata": {},
          "output_type": "execute_result"
        }
      ],
      "source": [
        "array4 = np.arange(12.)\n",
        "array4"
      ]
    },
    {
      "cell_type": "markdown",
      "metadata": {
        "id": "9xsgKZ6duc7V"
      },
      "source": [
        "Verificando o tipo do objeto"
      ]
    },
    {
      "cell_type": "code",
      "execution_count": null,
      "metadata": {
        "colab": {
          "base_uri": "https://localhost:8080/"
        },
        "id": "cUePvuHBuZxI",
        "outputId": "3acdf1b9-0aaf-4424-e719-d6617e732ad1"
      },
      "outputs": [
        {
          "data": {
            "text/plain": [
              "numpy.ndarray"
            ]
          },
          "execution_count": 35,
          "metadata": {},
          "output_type": "execute_result"
        }
      ],
      "source": [
        "type(array4)"
      ]
    },
    {
      "cell_type": "markdown",
      "metadata": {
        "id": "5qaxyiNouohl"
      },
      "source": [
        "Verificando o tipo dos elementos do Array"
      ]
    },
    {
      "cell_type": "code",
      "execution_count": null,
      "metadata": {
        "colab": {
          "base_uri": "https://localhost:8080/"
        },
        "id": "NDnSH5tquqfJ",
        "outputId": "4fed8be6-4942-4718-91f1-cf897754f098"
      },
      "outputs": [
        {
          "data": {
            "text/plain": [
              "dtype('float64')"
            ]
          },
          "execution_count": 36,
          "metadata": {},
          "output_type": "execute_result"
        }
      ],
      "source": [
        "array4.dtype"
      ]
    },
    {
      "cell_type": "code",
      "execution_count": null,
      "metadata": {
        "colab": {
          "base_uri": "https://localhost:8080/"
        },
        "id": "x4wSwbn9utvh",
        "outputId": "90fefdbb-941c-4404-80fb-878d9cc7c63d"
      },
      "outputs": [
        {
          "name": "stdout",
          "output_type": "stream",
          "text": [
            "float64\n"
          ]
        }
      ],
      "source": [
        "#OU...\n",
        "\n",
        "print(array4.dtype)"
      ]
    },
    {
      "cell_type": "markdown",
      "metadata": {
        "id": "iSV6fhqgu_S9"
      },
      "source": [
        "Também podemos criar um array digitando os valores:"
      ]
    },
    {
      "cell_type": "code",
      "execution_count": null,
      "metadata": {
        "colab": {
          "base_uri": "https://localhost:8080/"
        },
        "id": "oySk7wYAvQpY",
        "outputId": "a15a5ebb-8607-4917-bd94-b04a7c6e54ec"
      },
      "outputs": [
        {
          "name": "stdout",
          "output_type": "stream",
          "text": [
            "[0 1 2 3 4]\n"
          ]
        }
      ],
      "source": [
        "vetor1 = np.array([0, 1, 2, 3, 4])\n",
        "print(vetor1)"
      ]
    },
    {
      "cell_type": "markdown",
      "metadata": {
        "id": "YD0NmSuHvVNs"
      },
      "source": [
        "Selecionando um elemento específico:"
      ]
    },
    {
      "cell_type": "code",
      "execution_count": null,
      "metadata": {
        "colab": {
          "base_uri": "https://localhost:8080/"
        },
        "id": "z_B-nXWRvb_4",
        "outputId": "d1675bdd-1cc4-4f79-af59-65b1f93595ba"
      },
      "outputs": [
        {
          "data": {
            "text/plain": [
              "3"
            ]
          },
          "execution_count": 55,
          "metadata": {},
          "output_type": "execute_result"
        }
      ],
      "source": [
        "vetor1[3]"
      ]
    },
    {
      "cell_type": "markdown",
      "metadata": {
        "id": "RsVp9fY-vhXg"
      },
      "source": [
        "Selecionando um intervalo específico"
      ]
    },
    {
      "cell_type": "code",
      "execution_count": null,
      "metadata": {
        "colab": {
          "base_uri": "https://localhost:8080/"
        },
        "id": "HlDe4BwQvkFU",
        "outputId": "fa4ef73e-bcc2-44c9-acd5-7d6ea2499f49"
      },
      "outputs": [
        {
          "data": {
            "text/plain": [
              "array([0, 1])"
            ]
          },
          "execution_count": 44,
          "metadata": {},
          "output_type": "execute_result"
        }
      ],
      "source": [
        "vetor1[0:2]"
      ]
    },
    {
      "cell_type": "markdown",
      "metadata": {
        "id": "-tdXbqFxvx-Z"
      },
      "source": [
        "Ou também"
      ]
    },
    {
      "cell_type": "code",
      "execution_count": null,
      "metadata": {
        "colab": {
          "base_uri": "https://localhost:8080/"
        },
        "id": "nTW9L7CZvvKU",
        "outputId": "9d447dd9-333c-4586-8990-a7a5109e2347"
      },
      "outputs": [
        {
          "name": "stdout",
          "output_type": "stream",
          "text": [
            "[0 1]\n"
          ]
        }
      ],
      "source": [
        "print(vetor1[0:2])"
      ]
    },
    {
      "cell_type": "markdown",
      "metadata": {
        "id": "TfixXwS-x9Gy"
      },
      "source": [
        "Criando um array de strings:"
      ]
    },
    {
      "cell_type": "code",
      "execution_count": null,
      "metadata": {
        "colab": {
          "base_uri": "https://localhost:8080/"
        },
        "id": "UpgcD791yAL8",
        "outputId": "086e1f1f-be08-42f8-f450-436d1dc2501c"
      },
      "outputs": [
        {
          "data": {
            "text/plain": [
              "array(['Python', 'Profissional', 'Java', 'Água'], dtype='<U12')"
            ]
          },
          "execution_count": 58,
          "metadata": {},
          "output_type": "execute_result"
        }
      ],
      "source": [
        "s = np.array(['Python', 'Profissional', 'Java', 'Água'])\n",
        "s"
      ]
    },
    {
      "cell_type": "code",
      "execution_count": null,
      "metadata": {
        "colab": {
          "base_uri": "https://localhost:8080/"
        },
        "id": "wKd0WIO2yKMf",
        "outputId": "644782e6-2b03-46e9-a7ab-94cb6687b881"
      },
      "outputs": [
        {
          "data": {
            "text/plain": [
              "array(['Python', '12345612', 'Profissional', 'Java', 'Água'], dtype='<U21')"
            ]
          },
          "execution_count": 60,
          "metadata": {},
          "output_type": "execute_result"
        }
      ],
      "source": [
        "s = np.array(['Python', 12345612, 'Profissional', 'Java', 'Água'])\n",
        "s\n",
        "#Transforma o número em string"
      ]
    },
    {
      "cell_type": "markdown",
      "metadata": {
        "id": "K-bZwfMfzlvM"
      },
      "source": [
        "Alterando um elemento do Array:"
      ]
    },
    {
      "cell_type": "code",
      "execution_count": null,
      "metadata": {
        "colab": {
          "base_uri": "https://localhost:8080/"
        },
        "id": "O4o9yna0zoIn",
        "outputId": "bbc060ae-981d-4e0d-e686-60c75c430c62"
      },
      "outputs": [
        {
          "data": {
            "text/plain": [
              "array([ 0,  1, 10,  3,  4])"
            ]
          },
          "execution_count": 61,
          "metadata": {},
          "output_type": "execute_result"
        }
      ],
      "source": [
        "vetor1[2] = 10\n",
        "vetor1"
      ]
    },
    {
      "cell_type": "markdown",
      "metadata": {
        "id": "iDqhA3V2zq74"
      },
      "source": [
        "Vamos tentar incluir elementos:\n"
      ]
    },
    {
      "cell_type": "code",
      "execution_count": null,
      "metadata": {
        "colab": {
          "base_uri": "https://localhost:8080/",
          "height": 183
        },
        "id": "VL2plV4vzuDQ",
        "outputId": "43727e73-d7eb-448c-8cf8-6aa01ac1ab9a"
      },
      "outputs": [
        {
          "ename": "ValueError",
          "evalue": "ignored",
          "output_type": "error",
          "traceback": [
            "\u001b[0;31m---------------------------------------------------------------------------\u001b[0m",
            "\u001b[0;31mValueError\u001b[0m                                Traceback (most recent call last)",
            "\u001b[0;32m<ipython-input-65-6622e977b37e>\u001b[0m in \u001b[0;36m<module>\u001b[0;34m\u001b[0m\n\u001b[0;32m----> 1\u001b[0;31m \u001b[0mvetor1\u001b[0m\u001b[0;34m[\u001b[0m\u001b[0;36m0\u001b[0m\u001b[0;34m]\u001b[0m \u001b[0;34m=\u001b[0m \u001b[0;34m'Novo elemento'\u001b[0m\u001b[0;34m\u001b[0m\u001b[0;34m\u001b[0m\u001b[0m\n\u001b[0m\u001b[1;32m      2\u001b[0m \u001b[0mvetor1\u001b[0m\u001b[0;34m\u001b[0m\u001b[0;34m\u001b[0m\u001b[0m\n",
            "\u001b[0;31mValueError\u001b[0m: invalid literal for int() with base 10: 'Novo elemento'"
          ]
        }
      ],
      "source": [
        "vetor1[0] = 'Novo elemento'\n",
        "vetor1"
      ]
    },
    {
      "cell_type": "markdown",
      "metadata": {
        "id": "fBxipCMKz8Et"
      },
      "source": [
        "Agora tente o seguinte:"
      ]
    },
    {
      "cell_type": "code",
      "execution_count": null,
      "metadata": {
        "colab": {
          "base_uri": "https://localhost:8080/"
        },
        "id": "pCqBGnEBz-o4",
        "outputId": "9335758c-c13e-4d7e-a3a1-c2593b5742ab"
      },
      "outputs": [
        {
          "data": {
            "text/plain": [
              "array([45,  1, 10,  3,  4])"
            ]
          },
          "execution_count": 66,
          "metadata": {},
          "output_type": "execute_result"
        }
      ],
      "source": [
        "vetor1[0] = 45.6\n",
        "vetor1"
      ]
    },
    {
      "cell_type": "markdown",
      "metadata": {
        "id": "mPbqEfD20CMQ"
      },
      "source": [
        "O que aconteceu?"
      ]
    }
  ],
  "metadata": {
    "colab": {
      "toc_visible": true,
      "provenance": [],
      "authorship_tag": "ABX9TyMQExAj8c7YObz7ziVXj2uY",
      "include_colab_link": true
    },
    "kernelspec": {
      "display_name": "Python 3",
      "name": "python3"
    },
    "language_info": {
      "name": "python"
    }
  },
  "nbformat": 4,
  "nbformat_minor": 0
}